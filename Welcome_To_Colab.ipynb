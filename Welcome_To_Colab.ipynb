{
  "cells": [
    {
      "cell_type": "markdown",
      "metadata": {
        "id": "view-in-github",
        "colab_type": "text"
      },
      "source": [
        "<a href=\"https://colab.research.google.com/github/shouvikcirca/nnarches/blob/main/Welcome_To_Colab.ipynb\" target=\"_parent\"><img src=\"https://colab.research.google.com/assets/colab-badge.svg\" alt=\"Open In Colab\"/></a>"
      ]
    },
    {
      "cell_type": "code",
      "source": [
        "import torch\n",
        "import torch.nn as nn\n",
        "import torchvision.transforms.functional as TF"
      ],
      "metadata": {
        "id": "SNfoIqwhyXo0"
      },
      "execution_count": 1,
      "outputs": []
    },
    {
      "cell_type": "code",
      "source": [
        "class DoubleConv(nn.Module):\n",
        "    def __init__(self, in_channels, out_channels):\n",
        "        super(DoubleConv, self).__init__()\n",
        "        self.conv = nn.Sequential(\n",
        "            nn.Conv2d(in_channels, out_channels, 3, 1, 1, bias=False),\n",
        "            nn.BatchNorm2d(out_channels),\n",
        "            nn.ReLU(inplace=True),\n",
        "            nn.Conv2d(out_channels, out_channels, 3, 1, 1, bias=False),\n",
        "            nn.BatchNorm2d(out_channels),\n",
        "            nn.ReLU(inplace=True),\n",
        "        )\n",
        "\n",
        "    def forward(self, x):\n",
        "        return self.conv(x)"
      ],
      "metadata": {
        "id": "uYtfsxkxJmF8"
      },
      "execution_count": 2,
      "outputs": []
    },
    {
      "cell_type": "code",
      "source": [
        "# class DoubleConv(nn.Module):\n",
        "#   def __init__(self, in_channels, out_channels):\n",
        "#     super(DoubleConv, self).__init__()\n",
        "#     self.conv = nn.Sequential(\n",
        "#         nn.Conv2d(in_channels, out_channels, 3, 1, 1, bias=False),\n",
        "#         nn.BatchNorm2d(out_channels),\n",
        "#         nn.ReLU(inplace=True),\n",
        "#         nn.Conv2d(out_channels, out_channels, 3, 1, 1, bias=False),\n",
        "#         nn.BatchNorm2d(out_channels),\n",
        "#         nn.ReLU(inplace=True),\n",
        "#     )\n",
        "\n",
        "#   def forward(self, x):\n",
        "#     return self.conv(x)"
      ],
      "metadata": {
        "id": "ZOD8aa9CyXrV"
      },
      "execution_count": 9,
      "outputs": []
    },
    {
      "cell_type": "code",
      "source": [
        "# class UNET(nn.Module):\n",
        "#   def __init__(self, in_channels=3, out_channels=1, features = [64,128,256,512]):\n",
        "#     super(UNET, self).__init__()\n",
        "#     self.ups = nn.ModuleList()\n",
        "#     self.downs = nn.ModuleList()\n",
        "#     self.pool = nn.MaxPool2d(kernel_size=2, stride=2)\n",
        "\n",
        "#     # Down part of UNET\n",
        "#     for feature in features:\n",
        "#       self.downs.append(DoubleConv(in_channels, feature))\n",
        "#       in_channels = feature\n",
        "\n",
        "#     # Up part of UNET\n",
        "#     for feature in reversed(features):\n",
        "#       self.ups.append(nn.ConvTranspose2d(feature*2, feature, kernel_size=2, stride=2))\n",
        "#       self.ups.append(DoubleConv(feature*2, feature))\n",
        "\n",
        "\n",
        "#     # Bottleneck layer\n",
        "#     self.bottleneck = DoubleConv(features[-1], features[-1]*2)\n",
        "#     self.final_conv = nn.Conv2d(features[0], out_channels, kernel_size=1)\n",
        "\n",
        "#   def forward(self,x):\n",
        "#     skip_connections = []\n",
        "#     for down in self.downs:\n",
        "#       x = down(x)\n",
        "#       skip_connections.append(x)\n",
        "#       x = self.pool(x)\n",
        "\n",
        "#     x = self.bottleneck(x)\n",
        "#     skip_connections = skip_connections[::-1]\n",
        "\n",
        "\n",
        "#     for idx in range(0, len(self.ups), 2):\n",
        "#       x = self.ups[idx]\n",
        "#       skip_connection = skip_connections[idx//2]\n",
        "\n",
        "#       if x.shape != skip_connection.shape:\n",
        "#         x = TF.resize(x, size=skip_connection.shape[2:])\n",
        "\n",
        "#       concat_skip = torch.cat((skip_connection, x), dim=1)\n",
        "#       x = self.ups[idx+1](concat_skip)\n",
        "\n",
        "\n",
        "#     return self.final_conv(x)"
      ],
      "metadata": {
        "id": "f0GkH4e6yXuC"
      },
      "execution_count": 10,
      "outputs": []
    },
    {
      "cell_type": "code",
      "source": [
        "class UNET(nn.Module):\n",
        "    def __init__(\n",
        "            self, in_channels=3, out_channels=1, features=[64, 128, 256, 512],\n",
        "    ):\n",
        "        super(UNET, self).__init__()\n",
        "        self.ups = nn.ModuleList()\n",
        "        self.downs = nn.ModuleList()\n",
        "        self.pool = nn.MaxPool2d(kernel_size=2, stride=2)\n",
        "\n",
        "        # Down part of UNET\n",
        "        for feature in features:\n",
        "            self.downs.append(DoubleConv(in_channels, feature))\n",
        "            in_channels = feature\n",
        "\n",
        "        # Up part of UNET\n",
        "        for feature in reversed(features):\n",
        "            self.ups.append(\n",
        "                nn.ConvTranspose2d(\n",
        "                    feature*2, feature, kernel_size=2, stride=2,\n",
        "                )\n",
        "            )\n",
        "            self.ups.append(DoubleConv(feature*2, feature))\n",
        "\n",
        "        self.bottleneck = DoubleConv(features[-1], features[-1]*2)\n",
        "        self.final_conv = nn.Conv2d(features[0], out_channels, kernel_size=1)\n",
        "\n",
        "    def forward(self, x):\n",
        "        skip_connections = []\n",
        "\n",
        "        for down in self.downs:\n",
        "            x = down(x)\n",
        "            skip_connections.append(x)\n",
        "            x = self.pool(x)\n",
        "\n",
        "        x = self.bottleneck(x)\n",
        "        skip_connections = skip_connections[::-1]\n",
        "\n",
        "        for idx in range(0, len(self.ups), 2):\n",
        "            x = self.ups[idx](x)\n",
        "            skip_connection = skip_connections[idx//2]\n",
        "\n",
        "            if x.shape != skip_connection.shape:\n",
        "                x = TF.resize(x, size=skip_connection.shape[2:])\n",
        "\n",
        "            concat_skip = torch.cat((skip_connection, x), dim=1)\n",
        "            x = self.ups[idx+1](concat_skip)\n",
        "\n",
        "        return self.final_conv(x)\n"
      ],
      "metadata": {
        "id": "DI9BlaRDJcFA"
      },
      "execution_count": 3,
      "outputs": []
    },
    {
      "cell_type": "code",
      "source": [
        "def test():\n",
        "  x = torch.randn((3, 1, 160, 160))\n",
        "  model = UNET(in_channels = 1, out_channels = 1)\n",
        "  preds = model(x)\n",
        "  print(preds.shape)\n",
        "  print(x.shape)\n",
        "  assert preds.shape == x.shape"
      ],
      "metadata": {
        "id": "mbFMg-j2yXwj"
      },
      "execution_count": 4,
      "outputs": []
    },
    {
      "cell_type": "code",
      "source": [
        "test()"
      ],
      "metadata": {
        "id": "xaMgYNF-yXzJ",
        "outputId": "1557945a-8808-4d80-a406-c37e65528419",
        "colab": {
          "base_uri": "https://localhost:8080/"
        }
      },
      "execution_count": 5,
      "outputs": [
        {
          "output_type": "stream",
          "name": "stdout",
          "text": [
            "torch.Size([3, 1, 160, 160])\n",
            "torch.Size([3, 1, 160, 160])\n"
          ]
        }
      ]
    },
    {
      "cell_type": "code",
      "source": [],
      "metadata": {
        "id": "XnCn8iaIyX1p"
      },
      "execution_count": null,
      "outputs": []
    },
    {
      "cell_type": "code",
      "source": [],
      "metadata": {
        "id": "YQkPwIWkyX31"
      },
      "execution_count": null,
      "outputs": []
    },
    {
      "cell_type": "code",
      "source": [],
      "metadata": {
        "id": "GpejZAA3yX7U"
      },
      "execution_count": null,
      "outputs": []
    }
  ],
  "metadata": {
    "colab": {
      "name": "Welcome To Colab",
      "toc_visible": true,
      "provenance": [],
      "include_colab_link": true
    },
    "kernelspec": {
      "display_name": "Python 3",
      "name": "python3"
    }
  },
  "nbformat": 4,
  "nbformat_minor": 0
}